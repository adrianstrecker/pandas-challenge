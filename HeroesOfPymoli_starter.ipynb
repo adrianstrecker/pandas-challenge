{
 "cells": [
  {
   "cell_type": "markdown",
   "metadata": {},
   "source": [
    "### Note\n",
    "* Instructions have been included for each segment. You do not have to follow them exactly, but they are included to help you think through the steps."
   ]
  },
  {
   "cell_type": "code",
   "execution_count": 1,
   "metadata": {},
   "outputs": [],
   "source": [
    "# Dependencies and Setup\n",
    "import pandas as pd\n",
    "import numpy as py\n",
    "\n",
    "# File to Load (Remember to Change These)\n",
    "file_to_load = \"Resources/purchase_data.csv\"\n",
    "\n",
    "# Read Purchasing File and store into Pandas data frame\n",
    "purchase_data = pd.read_csv(file_to_load)"
   ]
  },
  {
   "cell_type": "markdown",
   "metadata": {},
   "source": [
    "## Player Count"
   ]
  },
  {
   "cell_type": "markdown",
   "metadata": {},
   "source": [
    "* Display the total number of players\n"
   ]
  },
  {
   "cell_type": "code",
   "execution_count": 2,
   "metadata": {},
   "outputs": [
    {
     "data": {
      "text/html": [
       "<div>\n",
       "<style scoped>\n",
       "    .dataframe tbody tr th:only-of-type {\n",
       "        vertical-align: middle;\n",
       "    }\n",
       "\n",
       "    .dataframe tbody tr th {\n",
       "        vertical-align: top;\n",
       "    }\n",
       "\n",
       "    .dataframe thead th {\n",
       "        text-align: right;\n",
       "    }\n",
       "</style>\n",
       "<table border=\"1\" class=\"dataframe\">\n",
       "  <thead>\n",
       "    <tr style=\"text-align: right;\">\n",
       "      <th></th>\n",
       "      <th>Total Players</th>\n",
       "    </tr>\n",
       "  </thead>\n",
       "  <tbody>\n",
       "    <tr>\n",
       "      <th>0</th>\n",
       "      <td>576</td>\n",
       "    </tr>\n",
       "  </tbody>\n",
       "</table>\n",
       "</div>"
      ],
      "text/plain": [
       "   Total Players\n",
       "0            576"
      ]
     },
     "execution_count": 2,
     "metadata": {},
     "output_type": "execute_result"
    }
   ],
   "source": [
    "#Find total number of players\n",
    "players = len(purchase_data[\"SN\"].unique())\n",
    "\n",
    "#Create table for total number of players\n",
    "total_players = pd.DataFrame({\"Total Players\": [players]})\n",
    "\n",
    "#Print total number of players\n",
    "total_players"
   ]
  },
  {
   "cell_type": "markdown",
   "metadata": {},
   "source": [
    "## Purchasing Analysis (Total)"
   ]
  },
  {
   "cell_type": "markdown",
   "metadata": {},
   "source": [
    "* Run basic calculations to obtain number of unique items, average price, etc.\n",
    "\n",
    "\n",
    "* Create a summary data frame to hold the results\n",
    "\n",
    "\n",
    "* Optional: give the displayed data cleaner formatting\n",
    "\n",
    "\n",
    "* Display the summary data frame\n"
   ]
  },
  {
   "cell_type": "code",
   "execution_count": 3,
   "metadata": {
    "scrolled": true
   },
   "outputs": [
    {
     "data": {
      "text/html": [
       "<div>\n",
       "<style scoped>\n",
       "    .dataframe tbody tr th:only-of-type {\n",
       "        vertical-align: middle;\n",
       "    }\n",
       "\n",
       "    .dataframe tbody tr th {\n",
       "        vertical-align: top;\n",
       "    }\n",
       "\n",
       "    .dataframe thead th {\n",
       "        text-align: right;\n",
       "    }\n",
       "</style>\n",
       "<table border=\"1\" class=\"dataframe\">\n",
       "  <thead>\n",
       "    <tr style=\"text-align: right;\">\n",
       "      <th></th>\n",
       "      <th>Number of Unique Items</th>\n",
       "      <th>Average Price</th>\n",
       "      <th>Number of Purchases</th>\n",
       "      <th>Total Revenue</th>\n",
       "    </tr>\n",
       "  </thead>\n",
       "  <tbody>\n",
       "    <tr>\n",
       "      <th>0</th>\n",
       "      <td>179</td>\n",
       "      <td>$3.05</td>\n",
       "      <td>780</td>\n",
       "      <td>$2,379.77</td>\n",
       "    </tr>\n",
       "  </tbody>\n",
       "</table>\n",
       "</div>"
      ],
      "text/plain": [
       "   Number of Unique Items Average Price  Number of Purchases Total Revenue\n",
       "0                     179         $3.05                  780     $2,379.77"
      ]
     },
     "execution_count": 3,
     "metadata": {},
     "output_type": "execute_result"
    }
   ],
   "source": [
    "#Get number of unique items\n",
    "item_count = len(purchase_data[\"Item ID\"].unique())\n",
    "\n",
    "#Get average price\n",
    "average_price = purchase_data[\"Price\"].mean()\n",
    "\n",
    "#Get number of purchases\n",
    "number_purchases = len(purchase_data)\n",
    "\n",
    "#Get total revenue\n",
    "revenue = purchase_data[\"Price\"].sum()\n",
    "\n",
    "#Create summary table\n",
    "purchase_summary = pd.DataFrame({\"Number of Unique Items\": [item_count], \"Average Price\": [average_price],\n",
    "                                \"Number of Purchases\": [number_purchases], \"Total Revenue\": [revenue]})\n",
    "#Format summary table\n",
    "purchase_summary[\"Average Price\"] = purchase_summary[\"Average Price\"].astype(float).map(\"${:.2f}\".format)\n",
    "purchase_summary[\"Total Revenue\"] = purchase_summary[\"Total Revenue\"].astype(float).map(\"${:,.2f}\".format)\n",
    "\n",
    "#Print summary table\n",
    "purchase_summary"
   ]
  },
  {
   "cell_type": "markdown",
   "metadata": {},
   "source": [
    "## Gender Demographics"
   ]
  },
  {
   "cell_type": "markdown",
   "metadata": {},
   "source": [
    "* Percentage and Count of Male Players\n",
    "\n",
    "\n",
    "* Percentage and Count of Female Players\n",
    "\n",
    "\n",
    "* Percentage and Count of Other / Non-Disclosed\n",
    "\n",
    "\n"
   ]
  },
  {
   "cell_type": "code",
   "execution_count": 4,
   "metadata": {},
   "outputs": [],
   "source": [
    "#Get total count of male players--REMOVE DUPLICATES TO GET ACCURATE COUNT\n",
    "columns = [\"SN\", \"Gender\"]\n",
    "    \n",
    "males = purchase_data.loc[purchase_data[\"Gender\"] == \"Male\", columns].drop_duplicates()\n",
    "\n",
    "num_males = len(males)\n",
    "\n",
    "#Get percentage of players as male\n",
    "percent_males = num_males/players"
   ]
  },
  {
   "cell_type": "code",
   "execution_count": 5,
   "metadata": {},
   "outputs": [],
   "source": [
    "#Get total count of female players--REMOVE DUPLICATES TO GET ACCURATE COUNT\n",
    "columns = [\"SN\", \"Gender\"]\n",
    "    \n",
    "females = purchase_data.loc[purchase_data[\"Gender\"] == \"Female\", columns].drop_duplicates()\n",
    "\n",
    "num_females = len(females)\n",
    "\n",
    "#Get percentage of players as female\n",
    "percent_females = num_females/players"
   ]
  },
  {
   "cell_type": "code",
   "execution_count": 6,
   "metadata": {},
   "outputs": [],
   "source": [
    "#Get total count of male players--REMOVE DUPLICATES TO GET ACCURATE COUNT\n",
    "columns = [\"SN\", \"Gender\"]\n",
    "    \n",
    "other = purchase_data.loc[purchase_data[\"Gender\"] == \"Other / Non-Disclosed\", columns].drop_duplicates()\n",
    "\n",
    "num_other = len(other)\n",
    "\n",
    "#Get percentage of players as male\n",
    "percent_other = num_other/players"
   ]
  },
  {
   "cell_type": "code",
   "execution_count": 8,
   "metadata": {},
   "outputs": [
    {
     "data": {
      "text/html": [
       "<div>\n",
       "<style scoped>\n",
       "    .dataframe tbody tr th:only-of-type {\n",
       "        vertical-align: middle;\n",
       "    }\n",
       "\n",
       "    .dataframe tbody tr th {\n",
       "        vertical-align: top;\n",
       "    }\n",
       "\n",
       "    .dataframe thead th {\n",
       "        text-align: right;\n",
       "    }\n",
       "</style>\n",
       "<table border=\"1\" class=\"dataframe\">\n",
       "  <thead>\n",
       "    <tr style=\"text-align: right;\">\n",
       "      <th></th>\n",
       "      <th>Total Count</th>\n",
       "      <th>Percentage of Players</th>\n",
       "    </tr>\n",
       "  </thead>\n",
       "  <tbody>\n",
       "    <tr>\n",
       "      <th>Male</th>\n",
       "      <td>484</td>\n",
       "      <td>84.03%</td>\n",
       "    </tr>\n",
       "    <tr>\n",
       "      <th>Female</th>\n",
       "      <td>81</td>\n",
       "      <td>14.06%</td>\n",
       "    </tr>\n",
       "    <tr>\n",
       "      <th>Other/Non-disclosed</th>\n",
       "      <td>11</td>\n",
       "      <td>1.91%</td>\n",
       "    </tr>\n",
       "  </tbody>\n",
       "</table>\n",
       "</div>"
      ],
      "text/plain": [
       "                     Total Count Percentage of Players\n",
       "Male                         484                84.03%\n",
       "Female                        81                14.06%\n",
       "Other/Non-disclosed           11                 1.91%"
      ]
     },
     "execution_count": 8,
     "metadata": {},
     "output_type": "execute_result"
    }
   ],
   "source": [
    "#Create summary table for gender analysis\\n\",\n",
    "gender_table = pd.DataFrame({\"Total Count\": [num_males, num_females, num_other],\n",
    "                           \"Percentage of Players\": [percent_males, percent_females, percent_other]},\n",
    "                            index=['Male', 'Female', 'Other/Non-disclosed'])\n",
    "#format gender table\n",
    "gender_table[\"Percentage of Players\"] = gender_table[\"Percentage of Players\"].astype(float).map(\"{:.2%}\".format)\n",
    "gender_table"
   ]
  },
  {
   "cell_type": "markdown",
   "metadata": {},
   "source": [
    "\n",
    "## Purchasing Analysis (Gender)"
   ]
  },
  {
   "cell_type": "markdown",
   "metadata": {},
   "source": [
    "* Run basic calculations to obtain purchase count, avg. purchase price, avg. purchase total per person etc. by gender\n",
    "\n",
    "\n",
    "\n",
    "\n",
    "* Create a summary data frame to hold the results\n",
    "\n",
    "\n",
    "* Optional: give the displayed data cleaner formatting\n",
    "\n",
    "\n",
    "* Display the summary data frame"
   ]
  },
  {
   "cell_type": "code",
   "execution_count": 9,
   "metadata": {},
   "outputs": [],
   "source": [
    "#Get purchase count for each gender\n",
    "#Set columns for gender count\n",
    "column = [\"Gender\"]\n",
    "#Set columns for pricing\n",
    "avg_price = [\"Price\", \"Gender\"]\n",
    "\n",
    "#Female purchase count\n",
    "female_count = len(purchase_data.loc[purchase_data[\"Gender\"] == \"Female\", column])\n",
    "\n",
    "#Female pricing\n",
    "female_price = purchase_data.loc[purchase_data[\"Gender\"] == \"Female\", avg_price]\n",
    "\n",
    "#Average female price\n",
    "avg_female_price = female_price[\"Price\"].mean()\n",
    "\n",
    "#Total female price\n",
    "tot_female_price = female_price[\"Price\"].sum()\n",
    "\n",
    "#Average total purchase for females\n",
    "avg_total_female = tot_female_price/num_females\n"
   ]
  },
  {
   "cell_type": "code",
   "execution_count": 10,
   "metadata": {},
   "outputs": [],
   "source": [
    "#Male purchase count\n",
    "male_count = len(purchase_data.loc[purchase_data[\"Gender\"] == \"Male\", column])\n",
    "\n",
    "#Male pricing\n",
    "male_price = purchase_data.loc[purchase_data[\"Gender\"] == \"Male\", avg_price]\n",
    "\n",
    "#Average male price\n",
    "avg_male_price = male_price[\"Price\"].mean()\n",
    "\n",
    "#Total male price\n",
    "tot_male_price = male_price[\"Price\"].sum()\n",
    "\n",
    "#Average total purchase for males\n",
    "avg_total_male = tot_male_price/num_males"
   ]
  },
  {
   "cell_type": "code",
   "execution_count": 11,
   "metadata": {},
   "outputs": [
    {
     "data": {
      "text/plain": [
       "11"
      ]
     },
     "execution_count": 11,
     "metadata": {},
     "output_type": "execute_result"
    }
   ],
   "source": [
    "#Other purchase count\n",
    "other_count = len(purchase_data.loc[purchase_data[\"Gender\"] == \"Other / Non-Disclosed\", column])\n",
    "\n",
    "#Other pricing\n",
    "other_price = purchase_data.loc[purchase_data[\"Gender\"] == \"Other / Non-Disclosed\", avg_price]\n",
    "\n",
    "#Average other price\n",
    "avg_other_price = other_price[\"Price\"].mean()\n",
    "\n",
    "#Total other price\n",
    "tot_other_price = other_price[\"Price\"].sum()\n",
    "\n",
    "#Average total purchase for other\n",
    "avg_total_other = tot_other_price/num_other\n",
    "num_other"
   ]
  },
  {
   "cell_type": "code",
   "execution_count": 25,
   "metadata": {},
   "outputs": [
    {
     "data": {
      "text/html": [
       "<div>\n",
       "<style scoped>\n",
       "    .dataframe tbody tr th:only-of-type {\n",
       "        vertical-align: middle;\n",
       "    }\n",
       "\n",
       "    .dataframe tbody tr th {\n",
       "        vertical-align: top;\n",
       "    }\n",
       "\n",
       "    .dataframe thead th {\n",
       "        text-align: right;\n",
       "    }\n",
       "</style>\n",
       "<table border=\"1\" class=\"dataframe\">\n",
       "  <thead>\n",
       "    <tr style=\"text-align: right;\">\n",
       "      <th></th>\n",
       "      <th>Purchase Count</th>\n",
       "      <th>Average Purchase Price</th>\n",
       "      <th>Total Purchase Value</th>\n",
       "      <th>Avg Total Per Person</th>\n",
       "    </tr>\n",
       "    <tr>\n",
       "      <th>Gender</th>\n",
       "      <th></th>\n",
       "      <th></th>\n",
       "      <th></th>\n",
       "      <th></th>\n",
       "    </tr>\n",
       "  </thead>\n",
       "  <tbody>\n",
       "    <tr>\n",
       "      <th>Female</th>\n",
       "      <td>113</td>\n",
       "      <td>$3.20</td>\n",
       "      <td>$361.94</td>\n",
       "      <td>$4.47</td>\n",
       "    </tr>\n",
       "    <tr>\n",
       "      <th>Male</th>\n",
       "      <td>652</td>\n",
       "      <td>$3.02</td>\n",
       "      <td>$1967.64</td>\n",
       "      <td>$4.07</td>\n",
       "    </tr>\n",
       "    <tr>\n",
       "      <th>Other/Non-disclosed</th>\n",
       "      <td>15</td>\n",
       "      <td>$3.35</td>\n",
       "      <td>$50.19</td>\n",
       "      <td>$4.56</td>\n",
       "    </tr>\n",
       "  </tbody>\n",
       "</table>\n",
       "</div>"
      ],
      "text/plain": [
       "                     Purchase Count Average Purchase Price  \\\n",
       "Gender                                                       \n",
       "Female                          113                  $3.20   \n",
       "Male                            652                  $3.02   \n",
       "Other/Non-disclosed              15                  $3.35   \n",
       "\n",
       "                    Total Purchase Value Avg Total Per Person  \n",
       "Gender                                                         \n",
       "Female                           $361.94                $4.47  \n",
       "Male                            $1967.64                $4.07  \n",
       "Other/Non-disclosed               $50.19                $4.56  "
      ]
     },
     "execution_count": 25,
     "metadata": {},
     "output_type": "execute_result"
    }
   ],
   "source": [
    "#Create summary table\n",
    "gender_pur_summary = pd.DataFrame({\"Purchase Count\": [female_count, male_count, other_count], \"Average Purchase Price\": [avg_female_price, avg_male_price, avg_other_price], \"Total Purchase Value\": [tot_female_price, tot_male_price, tot_other_price], \"Avg Total Per Person\": [avg_total_female, avg_total_male, avg_total_other], \"Gender\": [\"Female\", \"Male\", \"Other/Non-disclosed\"]})\n",
    "\n",
    "#Set index to gender\n",
    "gender_pur_summary = gender_pur_summary.set_index(\"Gender\")\n",
    "\n",
    "#Format columns\n",
    "gender_pur_summary[\"Average Purchase Price\"] = gender_pur_summary[\"Average Purchase Price\"].astype(float).map(\"${:.2f}\".format)\n",
    "gender_pur_summary[\"Total Purchase Value\"] = gender_pur_summary[\"Total Purchase Value\"].astype(float).map(\"${:.2f}\".format)\n",
    "gender_pur_summary[\"Avg Total Per Person\"] = gender_pur_summary[\"Avg Total Per Person\"].astype(float).map(\"${:.2f}\".format)\n",
    "gender_pur_summary"
   ]
  },
  {
   "cell_type": "markdown",
   "metadata": {},
   "source": [
    "## Age Demographics"
   ]
  },
  {
   "cell_type": "markdown",
   "metadata": {},
   "source": [
    "* Establish bins for ages\n",
    "\n",
    "\n",
    "* Categorize the existing players using the age bins. Hint: use pd.cut()\n",
    "\n",
    "\n",
    "* Calculate the numbers and percentages by age group\n",
    "\n",
    "\n",
    "* Create a summary data frame to hold the results\n",
    "\n",
    "\n",
    "* Optional: round the percentage column to two decimal points\n",
    "\n",
    "\n",
    "* Display Age Demographics Table\n"
   ]
  },
  {
   "cell_type": "code",
   "execution_count": 13,
   "metadata": {},
   "outputs": [],
   "source": [
    "#Create bins for age groups\n",
    "bins = [0, 9, 14, 19, 24, 29, 34, 39, 50]\n",
    "\n",
    "#Create labels for age groups\n",
    "group_names = [\"<10\", \"10-14\", \"15-19\", \"20-24\", \"25-29\", \"30-34\", \"35-39\", \"40+\"]"
   ]
  },
  {
   "cell_type": "code",
   "execution_count": 14,
   "metadata": {},
   "outputs": [
    {
     "data": {
      "text/html": [
       "<div>\n",
       "<style scoped>\n",
       "    .dataframe tbody tr th:only-of-type {\n",
       "        vertical-align: middle;\n",
       "    }\n",
       "\n",
       "    .dataframe tbody tr th {\n",
       "        vertical-align: top;\n",
       "    }\n",
       "\n",
       "    .dataframe thead th {\n",
       "        text-align: right;\n",
       "    }\n",
       "</style>\n",
       "<table border=\"1\" class=\"dataframe\">\n",
       "  <thead>\n",
       "    <tr style=\"text-align: right;\">\n",
       "      <th></th>\n",
       "      <th>Total Count</th>\n",
       "      <th>Percentage of Players</th>\n",
       "    </tr>\n",
       "  </thead>\n",
       "  <tbody>\n",
       "    <tr>\n",
       "      <th>&lt;10</th>\n",
       "      <td>17</td>\n",
       "      <td>2.95%</td>\n",
       "    </tr>\n",
       "    <tr>\n",
       "      <th>10-14</th>\n",
       "      <td>22</td>\n",
       "      <td>3.82%</td>\n",
       "    </tr>\n",
       "    <tr>\n",
       "      <th>15-19</th>\n",
       "      <td>107</td>\n",
       "      <td>18.58%</td>\n",
       "    </tr>\n",
       "    <tr>\n",
       "      <th>20-24</th>\n",
       "      <td>258</td>\n",
       "      <td>44.79%</td>\n",
       "    </tr>\n",
       "    <tr>\n",
       "      <th>25-29</th>\n",
       "      <td>77</td>\n",
       "      <td>13.37%</td>\n",
       "    </tr>\n",
       "    <tr>\n",
       "      <th>30-34</th>\n",
       "      <td>52</td>\n",
       "      <td>9.03%</td>\n",
       "    </tr>\n",
       "    <tr>\n",
       "      <th>35-39</th>\n",
       "      <td>31</td>\n",
       "      <td>5.38%</td>\n",
       "    </tr>\n",
       "    <tr>\n",
       "      <th>40+</th>\n",
       "      <td>12</td>\n",
       "      <td>2.08%</td>\n",
       "    </tr>\n",
       "  </tbody>\n",
       "</table>\n",
       "</div>"
      ],
      "text/plain": [
       "       Total Count Percentage of Players\n",
       "<10             17                 2.95%\n",
       "10-14           22                 3.82%\n",
       "15-19          107                18.58%\n",
       "20-24          258                44.79%\n",
       "25-29           77                13.37%\n",
       "30-34           52                 9.03%\n",
       "35-39           31                 5.38%\n",
       "40+             12                 2.08%"
      ]
     },
     "execution_count": 14,
     "metadata": {},
     "output_type": "execute_result"
    }
   ],
   "source": [
    "#Purchase_data[\"Age\"].value_counts()\n",
    "\n",
    "purchase_data[\"Age Group\"] = pd.cut(purchase_data[\"Age\"], bins, labels = group_names)\n",
    "purchase_data\n",
    "#Create table for ages\n",
    "age_group = pd.DataFrame(purchase_data[[\"SN\", \"Age Group\"]].drop_duplicates())\n",
    "age_counts = age_group[\"Age Group\"].value_counts()\n",
    "\n",
    "total_age_counts = pd.DataFrame(age_counts)\n",
    "#Add percentage\n",
    "total_age_counts[\"Percentage of Players\"] = total_age_counts[\"Age Group\"]/total_age_counts[\"Age Group\"].sum()\n",
    "\n",
    "#Sort age group\n",
    "age_counts_sorted = total_age_counts.sort_index()\n",
    "age_counts_sorted\n",
    "\n",
    "#format percentage column\n",
    "age_counts_sorted[\"Percentage of Players\"] = age_counts_sorted[\"Percentage of Players\"].astype(float).map(\"{:.2%}\".format)\n",
    "\n",
    "#RENAME AGE GROUP TO TOTAL COUNT\n",
    "age_counts_sorted = age_counts_sorted.rename(columns={\"Age Group\": \"Total Count\"})\n",
    "age_counts_sorted"
   ]
  },
  {
   "cell_type": "markdown",
   "metadata": {},
   "source": [
    "## Purchasing Analysis (Age)"
   ]
  },
  {
   "cell_type": "markdown",
   "metadata": {},
   "source": [
    "* Bin the purchase_data data frame by age\n",
    "\n",
    "\n",
    "* Run basic calculations to obtain purchase count, avg. purchase price, avg. purchase total per person etc. in the table below\n",
    "\n",
    "\n",
    "* Create a summary data frame to hold the results\n",
    "\n",
    "\n",
    "* Optional: give the displayed data cleaner formatting\n",
    "\n",
    "\n",
    "* Display the summary data frame"
   ]
  },
  {
   "cell_type": "code",
   "execution_count": 15,
   "metadata": {},
   "outputs": [],
   "source": [
    "#Get purchase count for each age\n",
    "#Set columns for age count\n",
    "age_column = [\"Age Group\"]\n",
    "#Set columns for pricing\n",
    "avg_price_age = [\"Price\", \"Age Group\"]\n",
    "\n",
    "#Under ten purchase count\n",
    "under_ten_count = len(purchase_data.loc[purchase_data[\"Age Group\"] == \"<10\", column])\n",
    "\n",
    "#Under ten pricing\n",
    "under_ten_price = purchase_data.loc[purchase_data[\"Age Group\"] == \"<10\", avg_price]\n",
    "\n",
    "#Under ten price\n",
    "avg_under_ten_price = under_ten_price[\"Price\"].mean()\n",
    "\n",
    "#Total under ten price\n",
    "tot_under_ten_price = under_ten_price[\"Price\"].sum()"
   ]
  },
  {
   "cell_type": "code",
   "execution_count": 16,
   "metadata": {},
   "outputs": [],
   "source": [
    "#Ten to fourteen purchase count\n",
    "ten_to_fourteen_count = len(purchase_data.loc[purchase_data[\"Age Group\"] == \"10-14\", column])\n",
    "\n",
    "#Ten to fourteen pricing\n",
    "ten_to_fourteen_price = purchase_data.loc[purchase_data[\"Age Group\"] == \"10-14\", avg_price]\n",
    "\n",
    "#Ten to fourteen price\n",
    "avg_ten_to_fourteen_price = ten_to_fourteen_price[\"Price\"].mean()\n",
    "\n",
    "#Total ten to fourteen price\n",
    "tot_ten_to_fourteen_price = ten_to_fourteen_price[\"Price\"].sum()"
   ]
  },
  {
   "cell_type": "code",
   "execution_count": 17,
   "metadata": {},
   "outputs": [],
   "source": [
    "#Fifteen to nineteen purchase count\n",
    "fifteen_to_nineteen_count = len(purchase_data.loc[purchase_data[\"Age Group\"] == \"15-19\", column])\n",
    "\n",
    "#Fifteen to nineteen pricing\n",
    "fifteen_to_nineteen_price = purchase_data.loc[purchase_data[\"Age Group\"] == \"15-19\", avg_price]\n",
    "\n",
    "#Fifteen to nineteen price\n",
    "avg_fifteen_to_nineteen_price = fifteen_to_nineteen_price[\"Price\"].mean()\n",
    "\n",
    "#Total fifteen to nineteen price\n",
    "tot_fifteen_to_nineteen_price = fifteen_to_nineteen_price[\"Price\"].sum()"
   ]
  },
  {
   "cell_type": "code",
   "execution_count": 18,
   "metadata": {},
   "outputs": [],
   "source": [
    "#Twenty to twenty-four purchase count\n",
    "twenty_to_twentyfour_count = len(purchase_data.loc[purchase_data[\"Age Group\"] == \"20-24\", column])\n",
    "\n",
    "#Twenty to twenty-four pricing\n",
    "twenty_to_twentyfour_price = purchase_data.loc[purchase_data[\"Age Group\"] == \"20-24\", avg_price]\n",
    "\n",
    "#Twenty to twenty-four price\n",
    "avg_twenty_to_twentyfour_price = twenty_to_twentyfour_price[\"Price\"].mean()\n",
    "\n",
    "#Total twenty to twenty-four price\n",
    "tot_twenty_to_twentyfour_price = twenty_to_twentyfour_price[\"Price\"].sum()"
   ]
  },
  {
   "cell_type": "code",
   "execution_count": 19,
   "metadata": {},
   "outputs": [],
   "source": [
    "#Twenty-five to twenty-nine purchase count\n",
    "twentyfive_to_twentynine_count = len(purchase_data.loc[purchase_data[\"Age Group\"] == \"25-29\", column])\n",
    "\n",
    "#Twenty to twenty-four pricing\n",
    "twentyfive_to_twentynine_price = purchase_data.loc[purchase_data[\"Age Group\"] == \"25-29\", avg_price]\n",
    "\n",
    "#Twenty to twenty-four price\n",
    "avg_twentyfive_to_twentynine_price = twentyfive_to_twentynine_price[\"Price\"].mean()\n",
    "\n",
    "#Total twenty to twenty-four price\n",
    "tot_twentyfive_to_twentynine_price = twentyfive_to_twentynine_price[\"Price\"].sum()"
   ]
  },
  {
   "cell_type": "code",
   "execution_count": 20,
   "metadata": {},
   "outputs": [],
   "source": [
    "#Thirty to thirty-four purchase count\n",
    "thirty_to_thirtyfour_count = len(purchase_data.loc[purchase_data[\"Age Group\"] == \"30-34\", column])\n",
    "\n",
    "#Thirty to thirty-four pricing\n",
    "thirty_to_thirtyfour_price = purchase_data.loc[purchase_data[\"Age Group\"] == \"30-34\", avg_price]\n",
    "\n",
    "#Thirty to thirty-four price\n",
    "avg_thirty_to_thirtyfour_price = thirty_to_thirtyfour_price[\"Price\"].mean()\n",
    "\n",
    "#Total thirty to thirty-four price\n",
    "tot_thirty_to_thirtyfour_price = thirty_to_thirtyfour_price[\"Price\"].sum()"
   ]
  },
  {
   "cell_type": "code",
   "execution_count": 21,
   "metadata": {},
   "outputs": [],
   "source": [
    "#Thirty-five to thirty-nine purchase count\n",
    "thirtyfive_to_thirtynine_count = len(purchase_data.loc[purchase_data[\"Age Group\"] == \"35-39\", column])\n",
    "\n",
    "#Thirty to thirty-four pricing\n",
    "thirtyfive_to_thirtynine_price = purchase_data.loc[purchase_data[\"Age Group\"] == \"35-39\", avg_price]\n",
    "\n",
    "#Thirty to thirty-four price\n",
    "avg_thirtyfive_to_thirtynine_price = thirtyfive_to_thirtynine_price[\"Price\"].mean()\n",
    "\n",
    "#Total thirty to thirty-four price\n",
    "tot_thirtyfive_to_thirtynine_price = thirtyfive_to_thirtynine_price[\"Price\"].sum()"
   ]
  },
  {
   "cell_type": "code",
   "execution_count": 22,
   "metadata": {},
   "outputs": [],
   "source": [
    "#Over 40 purchase count\n",
    "over_forty_count = len(purchase_data.loc[purchase_data[\"Age Group\"] == \"40+\", column])\n",
    "\n",
    "#Thirty to thirty-four pricing\n",
    "over_forty_price = purchase_data.loc[purchase_data[\"Age Group\"] == \"40+\", avg_price]\n",
    "\n",
    "#Thirty to thirty-four price\n",
    "avg_over_forty_price = over_forty_price[\"Price\"].mean()\n",
    "\n",
    "#Total thirty to thirty-four price\n",
    "tot_over_forty_price = over_forty_price[\"Price\"].sum()"
   ]
  },
  {
   "cell_type": "code",
   "execution_count": 23,
   "metadata": {},
   "outputs": [],
   "source": [
    "#other_count = len(purchase_data.loc[purchase_data[\"Gender\"] == \"Other / Non-Disclosed\", column])"
   ]
  },
  {
   "cell_type": "code",
   "execution_count": 24,
   "metadata": {},
   "outputs": [
    {
     "data": {
      "text/html": [
       "<div>\n",
       "<style scoped>\n",
       "    .dataframe tbody tr th:only-of-type {\n",
       "        vertical-align: middle;\n",
       "    }\n",
       "\n",
       "    .dataframe tbody tr th {\n",
       "        vertical-align: top;\n",
       "    }\n",
       "\n",
       "    .dataframe thead th {\n",
       "        text-align: right;\n",
       "    }\n",
       "</style>\n",
       "<table border=\"1\" class=\"dataframe\">\n",
       "  <thead>\n",
       "    <tr style=\"text-align: right;\">\n",
       "      <th></th>\n",
       "      <th>Purchase Count</th>\n",
       "      <th>Average Purchase Price</th>\n",
       "      <th>Total Purchase Value</th>\n",
       "    </tr>\n",
       "  </thead>\n",
       "  <tbody>\n",
       "    <tr>\n",
       "      <th>0</th>\n",
       "      <td>23</td>\n",
       "      <td>3.353478</td>\n",
       "      <td>77.13</td>\n",
       "    </tr>\n",
       "    <tr>\n",
       "      <th>1</th>\n",
       "      <td>28</td>\n",
       "      <td>2.956429</td>\n",
       "      <td>82.78</td>\n",
       "    </tr>\n",
       "    <tr>\n",
       "      <th>2</th>\n",
       "      <td>136</td>\n",
       "      <td>3.035956</td>\n",
       "      <td>412.89</td>\n",
       "    </tr>\n",
       "    <tr>\n",
       "      <th>3</th>\n",
       "      <td>365</td>\n",
       "      <td>3.052219</td>\n",
       "      <td>1114.06</td>\n",
       "    </tr>\n",
       "    <tr>\n",
       "      <th>4</th>\n",
       "      <td>101</td>\n",
       "      <td>2.900990</td>\n",
       "      <td>293.00</td>\n",
       "    </tr>\n",
       "    <tr>\n",
       "      <th>5</th>\n",
       "      <td>73</td>\n",
       "      <td>2.931507</td>\n",
       "      <td>214.00</td>\n",
       "    </tr>\n",
       "    <tr>\n",
       "      <th>6</th>\n",
       "      <td>41</td>\n",
       "      <td>3.601707</td>\n",
       "      <td>147.67</td>\n",
       "    </tr>\n",
       "    <tr>\n",
       "      <th>7</th>\n",
       "      <td>13</td>\n",
       "      <td>2.941538</td>\n",
       "      <td>38.24</td>\n",
       "    </tr>\n",
       "  </tbody>\n",
       "</table>\n",
       "</div>"
      ],
      "text/plain": [
       "   Purchase Count  Average Purchase Price  Total Purchase Value\n",
       "0              23                3.353478                 77.13\n",
       "1              28                2.956429                 82.78\n",
       "2             136                3.035956                412.89\n",
       "3             365                3.052219               1114.06\n",
       "4             101                2.900990                293.00\n",
       "5              73                2.931507                214.00\n",
       "6              41                3.601707                147.67\n",
       "7              13                2.941538                 38.24"
      ]
     },
     "execution_count": 24,
     "metadata": {},
     "output_type": "execute_result"
    }
   ],
   "source": [
    "#Create summary table\n",
    "age_pur_summary = pd.DataFrame({\"Purchase Count\": [under_ten_count, ten_to_fourteen_count, fifteen_to_nineteen_count, \n",
    "                                                   twenty_to_twentyfour_count, twentyfive_to_twentynine_count, thirty_to_thirtyfour_count,\n",
    "                                                  thirtyfive_to_thirtynine_count, over_forty_count], \n",
    "                                \"Average Purchase Price\": [avg_under_ten_price, avg_ten_to_fourteen_price, avg_fifteen_to_nineteen_price,\n",
    "                                                          avg_twenty_to_twentyfour_price, avg_twentyfive_to_twentynine_price, \n",
    "                                                           avg_thirty_to_thirtyfour_price, avg_thirtyfive_to_thirtynine_price, avg_over_forty_price],\n",
    "                                \"Total Purchase Value\": [tot_under_ten_price, tot_ten_to_fourteen_price, tot_fifteen_to_nineteen_price,\n",
    "                                                        tot_twenty_to_twentyfour_price, tot_twentyfive_to_twentynine_price,\n",
    "                                                        tot_thirty_to_thirtyfour_price, tot_thirtyfive_to_thirtynine_price, tot_over_forty_price]})\n",
    "\n",
    "age_pur_summary"
   ]
  },
  {
   "cell_type": "code",
   "execution_count": null,
   "metadata": {},
   "outputs": [],
   "source": []
  },
  {
   "cell_type": "markdown",
   "metadata": {},
   "source": [
    "## Top Spenders"
   ]
  },
  {
   "cell_type": "markdown",
   "metadata": {},
   "source": [
    "* Run basic calculations to obtain the results in the table below\n",
    "\n",
    "\n",
    "* Create a summary data frame to hold the results\n",
    "\n",
    "\n",
    "* Sort the total purchase value column in descending order\n",
    "\n",
    "\n",
    "* Optional: give the displayed data cleaner formatting\n",
    "\n",
    "\n",
    "* Display a preview of the summary data frame\n",
    "\n"
   ]
  },
  {
   "cell_type": "code",
   "execution_count": null,
   "metadata": {},
   "outputs": [],
   "source": []
  },
  {
   "cell_type": "markdown",
   "metadata": {},
   "source": [
    "## Most Popular Items"
   ]
  },
  {
   "cell_type": "markdown",
   "metadata": {},
   "source": [
    "* Retrieve the Item ID, Item Name, and Item Price columns\n",
    "\n",
    "\n",
    "* Group by Item ID and Item Name. Perform calculations to obtain purchase count, item price, and total purchase value\n",
    "\n",
    "\n",
    "* Create a summary data frame to hold the results\n",
    "\n",
    "\n",
    "* Sort the purchase count column in descending order\n",
    "\n",
    "\n",
    "* Optional: give the displayed data cleaner formatting\n",
    "\n",
    "\n",
    "* Display a preview of the summary data frame\n",
    "\n"
   ]
  },
  {
   "cell_type": "code",
   "execution_count": null,
   "metadata": {},
   "outputs": [],
   "source": []
  },
  {
   "cell_type": "markdown",
   "metadata": {},
   "source": [
    "## Most Profitable Items"
   ]
  },
  {
   "cell_type": "markdown",
   "metadata": {},
   "source": [
    "* Sort the above table by total purchase value in descending order\n",
    "\n",
    "\n",
    "* Optional: give the displayed data cleaner formatting\n",
    "\n",
    "\n",
    "* Display a preview of the data frame\n",
    "\n"
   ]
  },
  {
   "cell_type": "code",
   "execution_count": null,
   "metadata": {
    "scrolled": true
   },
   "outputs": [],
   "source": []
  }
 ],
 "metadata": {
  "anaconda-cloud": {},
  "kernel_info": {
   "name": "python3"
  },
  "kernelspec": {
   "display_name": "Python 3",
   "language": "python",
   "name": "python3"
  },
  "language_info": {
   "codemirror_mode": {
    "name": "ipython",
    "version": 3
   },
   "file_extension": ".py",
   "mimetype": "text/x-python",
   "name": "python",
   "nbconvert_exporter": "python",
   "pygments_lexer": "ipython3",
   "version": "3.6.10"
  },
  "latex_envs": {
   "LaTeX_envs_menu_present": true,
   "autoclose": false,
   "autocomplete": true,
   "bibliofile": "biblio.bib",
   "cite_by": "apalike",
   "current_citInitial": 1,
   "eqLabelWithNumbers": true,
   "eqNumInitial": 1,
   "hotkeys": {
    "equation": "Ctrl-E",
    "itemize": "Ctrl-I"
   },
   "labels_anchors": false,
   "latex_user_defs": false,
   "report_style_numbering": false,
   "user_envs_cfg": false
  },
  "nteract": {
   "version": "0.2.0"
  }
 },
 "nbformat": 4,
 "nbformat_minor": 2
}
